{
 "cells": [
  {
   "cell_type": "code",
   "execution_count": 1,
   "metadata": {},
   "outputs": [
    {
     "name": "stderr",
     "output_type": "stream",
     "text": [
      "c:\\Users\\adity\\AppData\\Local\\Programs\\Python\\Python310\\lib\\site-packages\\tqdm\\auto.py:21: TqdmWarning: IProgress not found. Please update jupyter and ipywidgets. See https://ipywidgets.readthedocs.io/en/stable/user_install.html\n",
      "  from .autonotebook import tqdm as notebook_tqdm\n"
     ]
    }
   ],
   "source": [
    "import torch\n",
    "import torchvision\n",
    "import torchvision.transforms as transforms\n",
    "\n",
    "transform = transforms.Compose(\n",
    "    [transforms.ToTensor(),\n",
    "    transforms.Normalize((0.5,), (0.5,))])\n",
    "\n",
    "# Create datasets for training & validation, download if necessary\n",
    "training_set = torchvision.datasets.FashionMNIST('./data', train=True, transform=transform, download=False)\n",
    "validation_set = torchvision.datasets.FashionMNIST('./data', train=False, transform=transform, download=False)"
   ]
  },
  {
   "cell_type": "code",
   "execution_count": 3,
   "metadata": {},
   "outputs": [
    {
     "data": {
      "image/png": "[encoded data removed]",
      "text/plain": [
       "<Figure size 640x480 with 1 Axes>"
      ]
     },
     "metadata": {},
     "output_type": "display_data"
    }
   ],
   "source": [
    "img,_ = training_set[1]\n",
    "plt.imshow(img.squeeze(), cmap=\"gray\")\n",
    "plt.show()"
   ]
  },
  {
   "cell_type": "code",
   "execution_count": 4,
   "metadata": {},
   "outputs": [
    {
     "name": "stdout",
     "output_type": "stream",
     "text": [
      "784\n"
     ]
    }
   ],
   "source": [
    "from torch.utils.data import DataLoader\n",
    "from torch.utils.data import Dataset\n",
    "from torchvision.io import read_image\n",
    "\n",
    "class AutoencDataset(Dataset):\n",
    "    def __init__(self, image):\n",
    "        self.image = image\n",
    "\n",
    "    def __getitem__(self, index):\n",
    "        return self.image[index]\n",
    "\n",
    "    def __len__(self):\n",
    "        return len(self.image)\n",
    "\n",
    "image,_ = training_set[1]  \n",
    "dataset = AutoencDataset(image)\n",
    "feat_size = image.size(1) * image.size(2)\n",
    "print(feat_size)\n",
    "train_loader = DataLoader(dataset) "
   ]
  },
  {
   "cell_type": "code",
   "execution_count": 5,
   "metadata": {},
   "outputs": [
    {
     "name": "stdout",
     "output_type": "stream",
     "text": [
      "torch.Size([1, 28, 28])\n"
     ]
    },
    {
     "data": {
      "image/png": "[encoded data removed]",
      "text/plain": [
       "<Figure size 640x480 with 1 Axes>"
      ]
     },
     "metadata": {},
     "output_type": "display_data"
    }
   ],
   "source": [
    "# Reconstruct from DataLoader\n",
    "for batch in train_loader:\n",
    "    print(batch.size())\n",
    "    image = batch.squeeze() \n",
    "    plt.imshow(image, cmap='gray')\n",
    "    plt.show()"
   ]
  },
  {
   "cell_type": "code",
   "execution_count": 7,
   "metadata": {},
   "outputs": [],
   "source": [
    "class Autoencoder(torch.nn.Module):\n",
    "  def __init__(self, feat_size, latent_dim):\n",
    "    super().__init__()\n",
    "    self.latent_dim = latent_dim\n",
    "    self.encoder = torch.nn.Sequential(\n",
    "        torch.nn.Linear(feat_size, latent_dim),\n",
    "        torch.nn.ReLU()\n",
    "    )\n",
    "    self.decoder = torch.nn.Sequential(\n",
    "        torch.nn.Linear(latent_dim, feat_size),\n",
    "        torch.nn.Sigmoid()\n",
    "    )\n",
    "\n",
    "  def forward (self, x):\n",
    "    latent_space = self.encoder(x)\n",
    "    x_hat = self.decoder(latent_space)\n",
    "    return x_hat"
   ]
  },
  {
   "cell_type": "code",
   "execution_count": 22,
   "metadata": {},
   "outputs": [
    {
     "name": "stdout",
     "output_type": "stream",
     "text": [
      "Using cuda device\n"
     ]
    }
   ],
   "source": [
    "# Optimizer\n",
    "device = torch.device(\"cuda\" if torch.cuda.is_available() else \"cpu\")\n",
    "print(f\"Using {device} device\")\n",
    "lr = 1e-2\n",
    "loss_fn = torch.nn.MSELoss()\n",
    "\n",
    "latent_dim = [2, 4, 8, 16, 32, 64, 128, 256]"
   ]
  },
  {
   "cell_type": "code",
   "execution_count": 23,
   "metadata": {},
   "outputs": [
    {
     "name": "stderr",
     "output_type": "stream",
     "text": [
      "100%|██████████| 50/50 [00:00<00:00, 579.06it/s]\n"
     ]
    },
    {
     "name": "stdout",
     "output_type": "stream",
     "text": [
      "Epoch 1.0591689348220825\n",
      "Epoch 1.1196633577346802\n",
      "Epoch 1.097398281097412\n",
      "Epoch 1.0409210920333862\n",
      "Epoch 1.0474941730499268\n",
      "Epoch 1.0439903736114502\n",
      "Epoch 1.040391445159912\n",
      "Epoch 1.03673255443573\n",
      "Epoch 1.0330346822738647\n",
      "Epoch 1.029311180114746\n",
      "Epoch 1.0255714654922485\n",
      "Epoch 1.021822214126587\n",
      "Epoch 1.0180686712265015\n",
      "Epoch 1.0143144130706787\n",
      "Epoch 1.010562777519226\n",
      "Epoch 1.0068162679672241\n",
      "Epoch 1.0030767917633057\n",
      "Epoch 0.9993460178375244\n",
      "Epoch 0.9956256747245789\n",
      "Epoch 0.9919168949127197\n",
      "Epoch 0.9882206320762634\n",
      "Epoch 0.9845378994941711\n",
      "Epoch 0.9808695912361145\n",
      "Epoch 0.9772161841392517\n",
      "Epoch 0.9735784530639648\n",
      "Epoch 0.9699571132659912\n",
      "Epoch 0.9663523435592651\n",
      "Epoch 0.9627647995948792\n",
      "Epoch 0.9591948390007019\n",
      "Epoch 0.9556427597999573\n",
      "Epoch 0.9521088600158691\n",
      "Epoch 0.9485936164855957\n",
      "Epoch 0.9450969099998474\n",
      "Epoch 0.9416192173957825\n",
      "Epoch 0.93816077709198\n",
      "Epoch 0.9347216486930847\n",
      "Epoch 0.9313021302223206\n",
      "Epoch 0.9279020428657532\n",
      "Epoch 0.9245219230651855\n",
      "Epoch 0.9211615324020386\n",
      "Epoch 0.9178212285041809\n",
      "Epoch 0.9145008325576782\n",
      "Epoch 0.911200761795044\n",
      "Epoch 0.9079207181930542\n",
      "Epoch 0.9046609401702881\n",
      "Epoch 0.9014216065406799\n",
      "Epoch 0.8982025384902954\n",
      "Epoch 0.8950037360191345\n",
      "Epoch 0.891825258731842\n",
      "Epoch 0.8886673450469971\n",
      "Finished Training for dim: 2\n"
     ]
    },
    {
     "name": "stderr",
     "output_type": "stream",
     "text": [
      "100%|██████████| 50/50 [00:00<00:00, 609.94it/s]\n"
     ]
    },
    {
     "name": "stdout",
     "output_type": "stream",
     "text": [
      "Epoch 1.0755785703659058\n",
      "Epoch 1.1247884035110474\n",
      "Epoch 1.105698823928833\n",
      "Epoch 1.0711867809295654\n",
      "Epoch 1.0201982259750366\n",
      "Epoch 1.0354145765304565\n",
      "Epoch 1.0241318941116333\n",
      "Epoch 1.0177772045135498\n",
      "Epoch 1.0051460266113281\n",
      "Epoch 0.9961703419685364\n",
      "Epoch 0.9838309288024902\n",
      "Epoch 0.9717630743980408\n",
      "Epoch 0.9598833918571472\n",
      "Epoch 0.9457088708877563\n",
      "Epoch 0.9330283999443054\n",
      "Epoch 0.9187777042388916\n",
      "Epoch 0.9041185975074768\n",
      "Epoch 0.8901769518852234\n",
      "Epoch 0.874836802482605\n",
      "Epoch 0.8595750331878662\n",
      "Epoch 0.844519317150116\n",
      "Epoch 0.8287881016731262\n",
      "Epoch 0.8128952383995056\n",
      "Epoch 0.7972416877746582\n",
      "Epoch 0.7812525033950806\n",
      "Epoch 0.7648808360099792\n",
      "Epoch 0.7485399842262268\n",
      "Epoch 0.7321979403495789\n",
      "Epoch 0.7157036662101746\n",
      "Epoch 0.6990962028503418\n",
      "Epoch 0.6824927926063538\n",
      "Epoch 0.6659332513809204\n",
      "Epoch 0.6493808031082153\n",
      "Epoch 0.6328112483024597\n",
      "Epoch 0.6162551641464233\n",
      "Epoch 0.5997761487960815\n",
      "Epoch 0.5834453105926514\n",
      "Epoch 0.5673423409461975\n",
      "Epoch 0.5515691637992859\n",
      "Epoch 0.5362643599510193\n",
      "Epoch 0.5216127634048462\n",
      "Epoch 0.5078461170196533\n",
      "Epoch 0.4952242970466614\n",
      "Epoch 0.48400476574897766\n",
      "Epoch 0.4744064211845398\n",
      "Epoch 0.4665454924106598\n",
      "Epoch 0.46038898825645447\n",
      "Epoch 0.455761194229126\n",
      "Epoch 0.4523923397064209\n",
      "Epoch 0.4500342309474945\n",
      "Finished Training for dim: 4\n"
     ]
    },
    {
     "name": "stderr",
     "output_type": "stream",
     "text": [
      "100%|██████████| 50/50 [00:00<00:00, 615.98it/s]\n"
     ]
    },
    {
     "name": "stdout",
     "output_type": "stream",
     "text": [
      "Epoch 1.0611108541488647\n",
      "Epoch 1.05424964427948\n",
      "Epoch 1.050285816192627\n",
      "Epoch 1.0463322401046753\n",
      "Epoch 1.0423903465270996\n",
      "Epoch 1.0384608507156372\n",
      "Epoch 1.034544587135315\n",
      "Epoch 1.0306419134140015\n",
      "Epoch 1.026753306388855\n",
      "Epoch 1.0228792428970337\n",
      "Epoch 1.0190200805664062\n",
      "Epoch 1.0151760578155518\n",
      "Epoch 1.0113475322723389\n",
      "Epoch 1.0075349807739258\n",
      "Epoch 1.0037384033203125\n",
      "Epoch 0.9999583959579468\n",
      "Epoch 0.9961949586868286\n",
      "Epoch 0.9924484491348267\n",
      "Epoch 0.9887190461158752\n",
      "Epoch 0.9850070476531982\n",
      "Epoch 0.98131263256073\n",
      "Epoch 0.9776360392570496\n",
      "Epoch 0.973977267742157\n",
      "Epoch 0.9703367352485657\n",
      "Epoch 0.9667145013809204\n",
      "Epoch 0.9631109237670898\n",
      "Epoch 0.9595258831977844\n",
      "Epoch 0.955959677696228\n",
      "Epoch 0.9524124264717102\n",
      "Epoch 0.9488843083381653\n",
      "Epoch 0.945375382900238\n",
      "Epoch 0.9418858885765076\n",
      "Epoch 0.9384158253669739\n",
      "Epoch 0.9349653720855713\n",
      "Epoch 0.9315346479415894\n",
      "Epoch 0.9281235933303833\n",
      "Epoch 0.9247325658798218\n",
      "Epoch 0.9213615655899048\n",
      "Epoch 0.9180104732513428\n",
      "Epoch 0.9146795272827148\n",
      "Epoch 0.9113688468933105\n",
      "Epoch 0.9080782532691956\n",
      "Epoch 0.9048080444335938\n",
      "Epoch 0.9015582203865051\n",
      "Epoch 0.8983286619186401\n",
      "Epoch 0.8951194882392883\n",
      "Epoch 0.891930878162384\n",
      "Epoch 0.8887625336647034\n",
      "Epoch 0.885614812374115\n",
      "Epoch 0.8824875950813293\n",
      "Finished Training for dim: 8\n"
     ]
    },
    {
     "name": "stderr",
     "output_type": "stream",
     "text": [
      "  0%|          | 0/50 [00:00<?, ?it/s]"
     ]
    },
    {
     "name": "stdout",
     "output_type": "stream",
     "text": [
      "Epoch 1.059824824333191\n",
      "Epoch 1.0580461025238037\n",
      "Epoch 1.01920747756958\n",
      "Epoch 1.0089912414550781\n",
      "Epoch 0.9690812230110168\n",
      "Epoch 0.9305161833763123\n",
      "Epoch 0.8963829874992371\n",
      "Epoch 0.8610872626304626\n",
      "Epoch 0.8235145211219788\n",
      "Epoch 0.7846412658691406\n",
      "Epoch 0.7459658980369568\n",
      "Epoch 0.7084585428237915\n",
      "Epoch 0.6726463437080383\n",
      "Epoch 0.6390594244003296\n",
      "Epoch 0.6081591248512268\n",
      "Epoch 0.5801197290420532\n",
      "Epoch 0.5549973845481873\n"
     ]
    },
    {
     "name": "stderr",
     "output_type": "stream",
     "text": [
      "100%|██████████| 50/50 [00:00<00:00, 593.40it/s]\n"
     ]
    },
    {
     "name": "stdout",
     "output_type": "stream",
     "text": [
      "Epoch 0.5328977704048157\n",
      "Epoch 0.5139070749282837\n",
      "Epoch 0.4980935752391815\n",
      "Epoch 0.4854465425014496\n",
      "Epoch 0.47565847635269165\n",
      "Epoch 0.46798697113990784\n",
      "Epoch 0.46180829405784607\n",
      "Epoch 0.45680680871009827\n",
      "Epoch 0.45289477705955505\n",
      "Epoch 0.45007947087287903\n",
      "Epoch 0.4483051300048828\n",
      "Epoch 0.44729769229888916\n",
      "Epoch 0.446738600730896\n",
      "Epoch 0.44640037417411804\n",
      "Epoch 0.44604063034057617\n",
      "Epoch 0.4456118643283844\n",
      "Epoch 0.4452231228351593\n",
      "Epoch 0.44499820470809937\n",
      "Epoch 0.4449155628681183\n",
      "Epoch 0.4448302388191223\n",
      "Epoch 0.44462719559669495\n",
      "Epoch 0.44430914521217346\n",
      "Epoch 0.44397029280662537\n",
      "Epoch 0.4436991810798645\n",
      "Epoch 0.4435446560382843\n",
      "Epoch 0.44349607825279236\n",
      "Epoch 0.44349828362464905\n",
      "Epoch 0.4434663653373718\n",
      "Epoch 0.4433584213256836\n",
      "Epoch 0.4432050585746765\n",
      "Epoch 0.4430340528488159\n",
      "Epoch 0.4428637623786926\n",
      "Epoch 0.44272199273109436\n",
      "Finished Training for dim: 16\n"
     ]
    },
    {
     "name": "stderr",
     "output_type": "stream",
     "text": [
      "  0%|          | 0/50 [00:00<?, ?it/s]"
     ]
    },
    {
     "name": "stdout",
     "output_type": "stream",
     "text": [
      "Epoch 1.0585323572158813\n",
      "Epoch 0.9893784523010254\n",
      "Epoch 0.9165055751800537\n",
      "Epoch 0.8191536664962769\n",
      "Epoch 0.7253159284591675\n",
      "Epoch 0.6508517861366272\n",
      "Epoch 0.5873690843582153\n",
      "Epoch 0.5346123576164246\n",
      "Epoch 0.5001737475395203\n",
      "Epoch 0.48170122504234314\n",
      "Epoch 0.4701971709728241\n",
      "Epoch 0.4624798595905304\n",
      "Epoch 0.4572867453098297\n",
      "Epoch 0.4550493359565735\n",
      "Epoch 0.45492878556251526\n",
      "Epoch 0.45411795377731323\n",
      "Epoch 0.4523184597492218\n",
      "Epoch 0.45096728205680847\n",
      "Epoch 0.45056068897247314\n",
      "Epoch 0.4502973258495331\n",
      "Epoch 0.4496970474720001\n",
      "Epoch 0.44868138432502747\n",
      "Epoch 0.44809335470199585\n",
      "Epoch 0.44788309931755066\n",
      "Epoch 0.44770461320877075\n",
      "Epoch 0.44732168316841125\n",
      "Epoch 0.44688940048217773\n",
      "Epoch 0.4466024339199066\n",
      "Epoch 0.4462989270687103\n",
      "Epoch 0.44603806734085083\n",
      "Epoch 0.44586795568466187\n",
      "Epoch 0.4458480775356293\n",
      "Epoch 0.44575005769729614\n",
      "Epoch 0.445514976978302\n"
     ]
    },
    {
     "name": "stderr",
     "output_type": "stream",
     "text": [
      " 68%|██████▊   | 34/50 [00:00<00:00, 337.41it/s]"
     ]
    },
    {
     "name": "stdout",
     "output_type": "stream",
     "text": [
      "Epoch 0.4452448785305023\n",
      "Epoch 0.4450698792934418\n",
      "Epoch 0.44500377774238586\n",
      "Epoch 0.44490134716033936\n",
      "Epoch 0.4447837173938751\n",
      "Epoch 0.44463831186294556\n",
      "Epoch 0.44454145431518555\n",
      "Epoch 0.4445047974586487\n",
      "Epoch 0.4444859027862549\n",
      "Epoch 0.4443991780281067\n",
      "Epoch 0.4442572295665741\n",
      "Epoch 0.4441234767436981\n",
      "Epoch 0.44407418370246887\n",
      "Epoch 0.4440758228302002\n",
      "Epoch 0.4440843462944031\n",
      "Epoch 0.4440493881702423\n"
     ]
    },
    {
     "name": "stderr",
     "output_type": "stream",
     "text": [
      "100%|██████████| 50/50 [00:00<00:00, 376.34it/s]\n"
     ]
    },
    {
     "name": "stdout",
     "output_type": "stream",
     "text": [
      "Finished Training for dim: 32\n"
     ]
    },
    {
     "name": "stderr",
     "output_type": "stream",
     "text": [
      "  0%|          | 0/50 [00:00<?, ?it/s]"
     ]
    },
    {
     "name": "stdout",
     "output_type": "stream",
     "text": [
      "Epoch 1.0551576614379883\n",
      "Epoch 0.7986635565757751\n",
      "Epoch 0.6267590522766113\n",
      "Epoch 0.5108468532562256\n",
      "Epoch 0.4794352054595947\n",
      "Epoch 0.4756472408771515\n",
      "Epoch 0.4746590256690979\n",
      "Epoch 0.47234857082366943\n",
      "Epoch 0.472391813993454\n",
      "Epoch 0.4718179404735565\n",
      "Epoch 0.47052884101867676\n",
      "Epoch 0.4686860740184784\n",
      "Epoch 0.46887144446372986\n",
      "Epoch 0.46789756417274475\n",
      "Epoch 0.46616190671920776\n",
      "Epoch 0.4661427140235901\n",
      "Epoch 0.4652857780456543\n",
      "Epoch 0.4636462330818176\n",
      "Epoch 0.46347713470458984\n",
      "Epoch 0.4631284475326538\n",
      "Epoch 0.4617234766483307\n",
      "Epoch 0.46173450350761414\n",
      "Epoch 0.4615786671638489\n",
      "Epoch 0.4608035981655121\n",
      "Epoch 0.46040987968444824\n",
      "Epoch 0.46026310324668884\n",
      "Epoch 0.4594188630580902\n",
      "Epoch 0.4592960774898529\n",
      "Epoch 0.4586629271507263\n",
      "Epoch 0.4589955806732178\n",
      "Epoch 0.45843949913978577\n",
      "Epoch 0.4579751789569855\n",
      "Epoch 0.45766985416412354\n",
      "Epoch 0.45785781741142273\n",
      "Epoch 0.4574207663536072\n",
      "Epoch 0.45705172419548035\n",
      "Epoch 0.4571036696434021\n",
      "Epoch 0.45690223574638367\n",
      "Epoch 0.45662128925323486\n",
      "Epoch 0.4563627243041992\n",
      "Epoch 0.4563359022140503\n",
      "Epoch 0.45619112253189087\n",
      "Epoch 0.4559844136238098\n",
      "Epoch 0.4556196331977844\n",
      "Epoch 0.455671101808548\n",
      "Epoch 0.45542970299720764\n",
      "Epoch 0.4556058347225189\n",
      "Epoch 0.4554123282432556\n",
      "Epoch 0.45518189668655396\n",
      "Epoch 0.45524370670318604\n"
     ]
    },
    {
     "name": "stderr",
     "output_type": "stream",
     "text": [
      "100%|██████████| 50/50 [00:00<00:00, 553.20it/s]\n"
     ]
    },
    {
     "name": "stdout",
     "output_type": "stream",
     "text": [
      "Finished Training for dim: 64\n"
     ]
    },
    {
     "name": "stderr",
     "output_type": "stream",
     "text": [
      "  0%|          | 0/50 [00:00<?, ?it/s]"
     ]
    },
    {
     "name": "stdout",
     "output_type": "stream",
     "text": [
      "Epoch 1.0556751489639282\n",
      "Epoch 0.7202163934707642\n",
      "Epoch 0.5211957097053528\n",
      "Epoch 0.4809771180152893\n",
      "Epoch 0.47356897592544556\n",
      "Epoch 0.47479745745658875\n",
      "Epoch 0.474047988653183\n",
      "Epoch 0.4745379686355591\n",
      "Epoch 0.4721337854862213\n",
      "Epoch 0.4752257764339447\n",
      "Epoch 0.4729826748371124\n",
      "Epoch 0.47201821208000183\n",
      "Epoch 0.4717268943786621\n",
      "Epoch 0.47177815437316895\n",
      "Epoch 0.4697427749633789\n",
      "Epoch 0.47005707025527954\n",
      "Epoch 0.4688321352005005\n",
      "Epoch 0.4675167500972748\n",
      "Epoch 0.4679613709449768\n",
      "Epoch 0.466898649930954\n",
      "Epoch 0.46629154682159424\n",
      "Epoch 0.4658728539943695\n",
      "Epoch 0.46490269899368286\n",
      "Epoch 0.4639591872692108\n",
      "Epoch 0.46442750096321106\n",
      "Epoch 0.4633471965789795\n",
      "Epoch 0.4626009464263916\n",
      "Epoch 0.46282657980918884\n",
      "Epoch 0.4619606137275696\n",
      "Epoch 0.461866557598114\n",
      "Epoch 0.4615771174430847\n",
      "Epoch 0.4614475667476654\n",
      "Epoch 0.4610305726528168\n",
      "Epoch 0.4607582092285156\n",
      "Epoch 0.4603588283061981\n",
      "Epoch 0.46062493324279785\n",
      "Epoch 0.4600859582424164\n",
      "Epoch 0.4600881338119507\n",
      "Epoch 0.46008774638175964\n",
      "Epoch 0.4597626328468323\n",
      "Epoch 0.45954176783561707\n"
     ]
    },
    {
     "name": "stderr",
     "output_type": "stream",
     "text": [
      "100%|██████████| 50/50 [00:00<00:00, 418.76it/s]\n"
     ]
    },
    {
     "name": "stdout",
     "output_type": "stream",
     "text": [
      "Epoch 0.459454745054245\n",
      "Epoch 0.45932552218437195\n",
      "Epoch 0.4593222439289093\n",
      "Epoch 0.4591885209083557\n",
      "Epoch 0.45911911129951477\n",
      "Epoch 0.45901596546173096\n",
      "Epoch 0.45892706513404846\n",
      "Epoch 0.458716481924057\n",
      "Epoch 0.458804726600647\n",
      "Finished Training for dim: 128\n"
     ]
    },
    {
     "name": "stderr",
     "output_type": "stream",
     "text": [
      "  0%|          | 0/50 [00:00<?, ?it/s]"
     ]
    },
    {
     "name": "stdout",
     "output_type": "stream",
     "text": [
      "Epoch 1.06013822555542\n",
      "Epoch 0.5443876385688782\n",
      "Epoch 0.4869718551635742\n",
      "Epoch 0.5100734233856201\n",
      "Epoch 0.5122035145759583\n",
      "Epoch 0.5125899910926819\n",
      "Epoch 0.5118611454963684\n",
      "Epoch 0.5110796093940735\n",
      "Epoch 0.5122889876365662\n",
      "Epoch 0.5123653411865234\n",
      "Epoch 0.513725996017456\n",
      "Epoch 0.5138701796531677\n",
      "Epoch 0.5146934390068054\n",
      "Epoch 0.5151362419128418\n"
     ]
    },
    {
     "name": "stderr",
     "output_type": "stream",
     "text": [
      " 46%|████▌     | 23/50 [00:00<00:00, 225.61it/s]"
     ]
    },
    {
     "name": "stdout",
     "output_type": "stream",
     "text": [
      "Epoch 0.5149730443954468\n",
      "Epoch 0.515108585357666\n",
      "Epoch 0.5152297019958496\n",
      "Epoch 0.516045331954956\n",
      "Epoch 0.5152758955955505\n",
      "Epoch 0.5158168077468872\n",
      "Epoch 0.5152459740638733\n",
      "Epoch 0.5152897834777832\n",
      "Epoch 0.5162035226821899\n",
      "Epoch 0.5158294439315796\n",
      "Epoch 0.5163770914077759\n",
      "Epoch 0.5164436101913452\n",
      "Epoch 0.5166230201721191\n",
      "Epoch 0.5161184668540955\n",
      "Epoch 0.5165207386016846\n",
      "Epoch 0.5164929628372192\n",
      "Epoch 0.5164573788642883\n",
      "Epoch 0.5166543126106262\n",
      "Epoch 0.5165303945541382\n",
      "Epoch 0.5164162516593933\n",
      "Epoch 0.5167758464813232\n",
      "Epoch 0.5165324211120605\n",
      "Epoch 0.5164546966552734\n",
      "Epoch 0.5163936614990234\n",
      "Epoch 0.516406774520874\n",
      "Epoch 0.5163923501968384\n",
      "Epoch 0.5163727402687073\n",
      "Epoch 0.5163283944129944\n",
      "Epoch 0.5163757801055908\n",
      "Epoch 0.5163717269897461\n",
      "Epoch 0.5164136290550232\n",
      "Epoch 0.5163788795471191\n"
     ]
    },
    {
     "name": "stderr",
     "output_type": "stream",
     "text": [
      "100%|██████████| 50/50 [00:00<00:00, 258.26it/s]"
     ]
    },
    {
     "name": "stdout",
     "output_type": "stream",
     "text": [
      "Epoch 0.5164718627929688\n",
      "Epoch 0.5164219737052917\n",
      "Epoch 0.5164260268211365\n",
      "Epoch 0.5163440108299255\n",
      "Finished Training for dim: 256\n"
     ]
    },
    {
     "name": "stderr",
     "output_type": "stream",
     "text": [
      "\n"
     ]
    }
   ],
   "source": [
    "# Train Loop\n",
    "import os\n",
    "from tqdm import tqdm\n",
    "\n",
    "epochs = 50\n",
    "train_dim = []\n",
    "\n",
    "for dim in latent_dim:\n",
    "    model = Autoencoder(feat_size=feat_size, latent_dim=dim).to(device)\n",
    "    optimizer = torch.optim.Adam(model.parameters(), lr=lr)\n",
    "    train_loss = []\n",
    "    for _ in tqdm(range(epochs)):\n",
    "        running_loss = 0.0\n",
    "        for batch in train_loader:\n",
    "            feat = batch.view(-1, feat_size).to(device)     \n",
    "            pred = model(feat)\n",
    "            loss = loss_fn(pred, feat)\n",
    "            optimizer.zero_grad()\n",
    "            loss.backward()\n",
    "            optimizer.step()\n",
    "\n",
    "            running_loss += loss.item()\n",
    "        epoch_loss = running_loss / len(train_loader)  \n",
    "        print(f\"Epoch {epoch_loss}\")\n",
    "        train_loss.append(epoch_loss)\n",
    "    \n",
    "    train_dim.append(train_loss)    \n",
    "\n",
    "    print(f'Finished Training for dim: {dim}')\n",
    "    torch.save(model.cpu(), f'model_dim{dim}.pth')\n"
   ]
  },
  {
   "cell_type": "code",
   "execution_count": 24,
   "metadata": {},
   "outputs": [
    {
     "data": {
      "image/png": "[encoded data removed]",
      "text/plain": [
       "<Figure size 640x480 with 1 Axes>"
      ]
     },
     "metadata": {},
     "output_type": "display_data"
    }
   ],
   "source": [
    "for i in range(len(latent_dim)):\n",
    "    plt.plot(train_dim[i], label=f\"dim={latent_dim[i]}\")\n",
    "plt.legend(loc='upper right')\n",
    "plt.xlabel('Epochs')\n",
    "plt.ylabel('Loss')\n",
    "plt.show()"
   ]
  },
  {
   "cell_type": "code",
   "execution_count": 25,
   "metadata": {},
   "outputs": [
    {
     "data": {
      "image/png": "[encoded data removed]",
      "text/plain": [
       "<Figure size 640x480 with 1 Axes>"
      ]
     },
     "metadata": {},
     "output_type": "display_data"
    }
   ],
   "source": [
    "# Evaluation\n",
    "import numpy as np\n",
    "\n",
    "gt_image = image.to(device)\n",
    "\n",
    "pred_images = []\n",
    "for dim in latent_dim:\n",
    "    net = torch.load(f'model_dim{dim}.pth')\n",
    "    net.to(device)\n",
    "    pred_image = torch.zeros_like(image).to(device)\n",
    "    with torch.no_grad():\n",
    "        net.eval()\n",
    "        pred = net(gt_image.view(-1, feat_size))\n",
    "        pred_image = pred.view(image.size())\n",
    "    pred_image = pred_image.cpu()\n",
    "    pred_images.append(pred_image)\n",
    "\n",
    "gt_image = gt_image.cpu()\n",
    "\n",
    "# Corrected line\n",
    "join_image = torch.cat([gt_image] + pred_images, 1)\n",
    "plt.imshow(join_image.squeeze(), cmap=\"gray\")\n",
    "plt.show()\n"
   ]
  },
  {
   "cell_type": "code",
   "execution_count": 28,
   "metadata": {},
   "outputs": [
    {
     "data": {
      "image/png": "[encoded data removed]",
      "text/plain": [
       "<Figure size 800x800 with 9 Axes>"
      ]
     },
     "metadata": {},
     "output_type": "display_data"
    }
   ],
   "source": [
    "labels_map = {\n",
    "    0: \"gt_image\",\n",
    "    1: \"dim=2\",\n",
    "    2: \"dim=4\",\n",
    "    3: \"dim=8\",\n",
    "    4: \"dim=16\",\n",
    "    5: \"dim=32\",\n",
    "    6: \"dim=64\",\n",
    "    7: \"dim=128\",\n",
    "    8: \"dim=256\"\n",
    "}\n",
    "\n",
    "figure = plt.figure(figsize=(8, 8))\n",
    "cols, rows = 3, 3\n",
    "for i in range(1, cols * rows + 1):\n",
    "    if i == 1:\n",
    "        img = gt_image\n",
    "        label = 0\n",
    "    else:\n",
    "        img, label = pred_images[i-2], i-1\n",
    "    figure.add_subplot(rows, cols, i)\n",
    "    plt.title(labels_map[label])\n",
    "    plt.axis(\"off\")\n",
    "    plt.imshow(img.squeeze(), cmap=\"gray\")\n",
    "plt.show()"
   ]
  },
  {
   "cell_type": "code",
   "execution_count": null,
   "metadata": {},
   "outputs": [],
   "source": []
  }
 ],
 "metadata": {
  "kernelspec": {
   "display_name": "Python 3",
   "language": "python",
   "name": "python3"
  },
  "language_info": {
   "codemirror_mode": {
    "name": "ipython",
    "version": 3
   },
   "file_extension": ".py",
   "mimetype": "text/x-python",
   "name": "python",
   "nbconvert_exporter": "python",
   "pygments_lexer": "ipython3",
   "version": "3.10.11"
  }
 },
 "nbformat": 4,
 "nbformat_minor": 2
}
